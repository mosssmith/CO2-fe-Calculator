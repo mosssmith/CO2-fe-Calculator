{
 "cells": [
  {
   "cell_type": "code",
   "execution_count": 54,
   "metadata": {},
   "outputs": [],
   "source": [
    "from math import *\n",
    "from sympy.physics.vector import ReferenceFrame\n",
    "from sympy.physics.vector import gradient\n",
    "from mpl_toolkits.mplot3d import axes3d\n",
    "import numpy as np\n",
    "import mpmath as mp\n",
    "mp.dps = 15; mp.pretty = True\n",
    "import sympy as sp\n",
    "import pandas as pd\n",
    "from pandas import ExcelWriter\n",
    "import matplotlib\n",
    "import matplotlib.pyplot as plt\n",
    "from brokenaxes import brokenaxes"
   ]
  },
  {
   "cell_type": "markdown",
   "metadata": {},
   "source": [
    "# Testing with Global and UK methane emissions"
   ]
  },
  {
   "cell_type": "code",
   "execution_count": 55,
   "metadata": {
    "scrolled": true
   },
   "outputs": [
    {
     "data": {
      "text/html": [
       "<div>\n",
       "<style scoped>\n",
       "    .dataframe tbody tr th:only-of-type {\n",
       "        vertical-align: middle;\n",
       "    }\n",
       "\n",
       "    .dataframe tbody tr th {\n",
       "        vertical-align: top;\n",
       "    }\n",
       "\n",
       "    .dataframe thead th {\n",
       "        text-align: right;\n",
       "    }\n",
       "</style>\n",
       "<table border=\"1\" class=\"dataframe\">\n",
       "  <thead>\n",
       "    <tr style=\"text-align: right;\">\n",
       "      <th></th>\n",
       "      <th>Year</th>\n",
       "      <th>Energy</th>\n",
       "      <th>Industrial</th>\n",
       "      <th>Waste</th>\n",
       "      <th>Agriculture</th>\n",
       "      <th>SLCP Emissions</th>\n",
       "    </tr>\n",
       "  </thead>\n",
       "  <tbody>\n",
       "    <tr>\n",
       "      <th>0</th>\n",
       "      <td>1500</td>\n",
       "      <td>0.42</td>\n",
       "      <td>0.000084</td>\n",
       "      <td>0.537</td>\n",
       "      <td>0.338</td>\n",
       "      <td>1.295084</td>\n",
       "    </tr>\n",
       "    <tr>\n",
       "      <th>1</th>\n",
       "      <td>1501</td>\n",
       "      <td>0.42</td>\n",
       "      <td>0.000084</td>\n",
       "      <td>0.537</td>\n",
       "      <td>0.338</td>\n",
       "      <td>1.295084</td>\n",
       "    </tr>\n",
       "    <tr>\n",
       "      <th>2</th>\n",
       "      <td>1502</td>\n",
       "      <td>0.42</td>\n",
       "      <td>0.000084</td>\n",
       "      <td>0.537</td>\n",
       "      <td>0.338</td>\n",
       "      <td>1.295084</td>\n",
       "    </tr>\n",
       "    <tr>\n",
       "      <th>3</th>\n",
       "      <td>1503</td>\n",
       "      <td>0.42</td>\n",
       "      <td>0.000084</td>\n",
       "      <td>0.537</td>\n",
       "      <td>0.338</td>\n",
       "      <td>1.295084</td>\n",
       "    </tr>\n",
       "    <tr>\n",
       "      <th>4</th>\n",
       "      <td>1504</td>\n",
       "      <td>0.42</td>\n",
       "      <td>0.000084</td>\n",
       "      <td>0.537</td>\n",
       "      <td>0.338</td>\n",
       "      <td>1.295084</td>\n",
       "    </tr>\n",
       "  </tbody>\n",
       "</table>\n",
       "</div>"
      ],
      "text/plain": [
       "   Year  Energy  Industrial  Waste  Agriculture  SLCP Emissions\n",
       "0  1500    0.42    0.000084  0.537        0.338        1.295084\n",
       "1  1501    0.42    0.000084  0.537        0.338        1.295084\n",
       "2  1502    0.42    0.000084  0.537        0.338        1.295084\n",
       "3  1503    0.42    0.000084  0.537        0.338        1.295084\n",
       "4  1504    0.42    0.000084  0.537        0.338        1.295084"
      ]
     },
     "execution_count": 55,
     "metadata": {},
     "output_type": "execute_result"
    }
   ],
   "source": [
    "# Import Data from the excel book\n",
    "GlobalCH4Ems = pd.read_excel (\n",
    "    r'Graphs/GraphData.xlsx', \n",
    "    sheet_name='Global Methane Emissions').rename(columns={\"Unnamed: 0\": \"Year\"})\n",
    "GlobalCH4Ems['SLCP Emissions'] = GlobalCH4Ems['Energy'] + GlobalCH4Ems['Industrial'] + GlobalCH4Ems['Waste'] + GlobalCH4Ems['Other'] + GlobalCH4Ems['Agriculture']\n",
    "\n",
    "UKCH4Ems = pd.read_excel (\n",
    "    r'Graphs/GraphData.xlsx', \n",
    "    sheet_name='UK Methane Emissions').rename(columns={\"Unnamed: 0\": \"Year\"})\n",
    "UKCH4Ems['SLCP Emissions'] = UKCH4Ems['Energy'] + UKCH4Ems['Industrial'] + UKCH4Ems['Waste'] + UKCH4Ems['Agriculture']\n",
    "\n",
    "UKCH4Ems.head()"
   ]
  },
  {
   "cell_type": "code",
   "execution_count": 56,
   "metadata": {
    "scrolled": true
   },
   "outputs": [
    {
     "data": {
      "text/html": [
       "<div>\n",
       "<style scoped>\n",
       "    .dataframe tbody tr th:only-of-type {\n",
       "        vertical-align: middle;\n",
       "    }\n",
       "\n",
       "    .dataframe tbody tr th {\n",
       "        vertical-align: top;\n",
       "    }\n",
       "\n",
       "    .dataframe thead th {\n",
       "        text-align: right;\n",
       "    }\n",
       "</style>\n",
       "<table border=\"1\" class=\"dataframe\">\n",
       "  <thead>\n",
       "    <tr style=\"text-align: right;\">\n",
       "      <th></th>\n",
       "      <th>Year</th>\n",
       "      <th>Energy</th>\n",
       "      <th>Industrial</th>\n",
       "      <th>Waste</th>\n",
       "      <th>Agriculture</th>\n",
       "      <th>SLCP Emissions</th>\n",
       "      <th>BValue</th>\n",
       "      <th>CO2feEms</th>\n",
       "      <th>CO2we</th>\n",
       "      <th>Old-GWP*</th>\n",
       "      <th>CGWP</th>\n",
       "      <th>CGTP</th>\n",
       "      <th>GWP</th>\n",
       "    </tr>\n",
       "  </thead>\n",
       "  <tbody>\n",
       "    <tr>\n",
       "      <th>0</th>\n",
       "      <td>1500</td>\n",
       "      <td>0.42</td>\n",
       "      <td>0.000084</td>\n",
       "      <td>0.537</td>\n",
       "      <td>0.338</td>\n",
       "      <td>1.295084</td>\n",
       "      <td>0.0</td>\n",
       "      <td>155.338333103233</td>\n",
       "      <td>145.04943</td>\n",
       "      <td>3626.23576</td>\n",
       "      <td>5568.86206</td>\n",
       "      <td>4791.81154</td>\n",
       "      <td>36.262358</td>\n",
       "    </tr>\n",
       "    <tr>\n",
       "      <th>1</th>\n",
       "      <td>1501</td>\n",
       "      <td>0.42</td>\n",
       "      <td>0.000084</td>\n",
       "      <td>0.537</td>\n",
       "      <td>0.338</td>\n",
       "      <td>1.295084</td>\n",
       "      <td>-0.0492833669489476</td>\n",
       "      <td>149.427060251966</td>\n",
       "      <td>145.04943</td>\n",
       "      <td>0.00000</td>\n",
       "      <td>0.00000</td>\n",
       "      <td>0.00000</td>\n",
       "      <td>36.262358</td>\n",
       "    </tr>\n",
       "    <tr>\n",
       "      <th>2</th>\n",
       "      <td>1502</td>\n",
       "      <td>0.42</td>\n",
       "      <td>0.000084</td>\n",
       "      <td>0.537</td>\n",
       "      <td>0.338</td>\n",
       "      <td>1.295084</td>\n",
       "      <td>-0.103561780863433</td>\n",
       "      <td>142.916658580041</td>\n",
       "      <td>145.04943</td>\n",
       "      <td>0.00000</td>\n",
       "      <td>0.00000</td>\n",
       "      <td>0.00000</td>\n",
       "      <td>36.262358</td>\n",
       "    </tr>\n",
       "    <tr>\n",
       "      <th>3</th>\n",
       "      <td>1503</td>\n",
       "      <td>0.42</td>\n",
       "      <td>0.000084</td>\n",
       "      <td>0.537</td>\n",
       "      <td>0.338</td>\n",
       "      <td>1.295084</td>\n",
       "      <td>-0.16080782136293</td>\n",
       "      <td>136.050306177663</td>\n",
       "      <td>145.04943</td>\n",
       "      <td>0.00000</td>\n",
       "      <td>0.00000</td>\n",
       "      <td>0.00000</td>\n",
       "      <td>36.262358</td>\n",
       "    </tr>\n",
       "    <tr>\n",
       "      <th>4</th>\n",
       "      <td>1504</td>\n",
       "      <td>0.42</td>\n",
       "      <td>0.000084</td>\n",
       "      <td>0.537</td>\n",
       "      <td>0.338</td>\n",
       "      <td>1.295084</td>\n",
       "      <td>-0.219435127954834</td>\n",
       "      <td>129.018278391116</td>\n",
       "      <td>145.04943</td>\n",
       "      <td>0.00000</td>\n",
       "      <td>0.00000</td>\n",
       "      <td>0.00000</td>\n",
       "      <td>36.262358</td>\n",
       "    </tr>\n",
       "  </tbody>\n",
       "</table>\n",
       "</div>"
      ],
      "text/plain": [
       "   Year  Energy  Industrial  Waste  Agriculture  SLCP Emissions  \\\n",
       "0  1500    0.42    0.000084  0.537        0.338        1.295084   \n",
       "1  1501    0.42    0.000084  0.537        0.338        1.295084   \n",
       "2  1502    0.42    0.000084  0.537        0.338        1.295084   \n",
       "3  1503    0.42    0.000084  0.537        0.338        1.295084   \n",
       "4  1504    0.42    0.000084  0.537        0.338        1.295084   \n",
       "\n",
       "                BValue          CO2feEms      CO2we    Old-GWP*        CGWP  \\\n",
       "0                  0.0  155.338333103233  145.04943  3626.23576  5568.86206   \n",
       "1  -0.0492833669489476  149.427060251966  145.04943     0.00000     0.00000   \n",
       "2   -0.103561780863433  142.916658580041  145.04943     0.00000     0.00000   \n",
       "3    -0.16080782136293  136.050306177663  145.04943     0.00000     0.00000   \n",
       "4   -0.219435127954834  129.018278391116  145.04943     0.00000     0.00000   \n",
       "\n",
       "         CGTP        GWP  \n",
       "0  4791.81154  36.262358  \n",
       "1     0.00000  36.262358  \n",
       "2     0.00000  36.262358  \n",
       "3     0.00000  36.262358  \n",
       "4     0.00000  36.262358  "
      ]
     },
     "execution_count": 56,
     "metadata": {},
     "output_type": "execute_result"
    }
   ],
   "source": [
    "# Calculate Metric Emissions\n",
    "ReducedCO2feVectorMetric = CO2feVectorMetric[['YearInverted','CO2fe']]\n",
    "\n",
    "GlobalCH4MetricEms = addMetricEmissions(GlobalCH4Ems,ReducedCO2feVectorMetric)\n",
    "UKCH4MetricEms = addMetricEmissions(UKCH4Ems,ReducedCO2feVectorMetric)\n",
    "\n",
    "UKCH4MetricEms.head()"
   ]
  },
  {
   "cell_type": "code",
   "execution_count": 57,
   "metadata": {},
   "outputs": [],
   "source": [
    "# Save in Excel Workbook\n",
    "with ExcelWriter(r'Graphs/MetricEmissionsData.xlsx') as writer:  \n",
    "    GlobalCH4Ems.to_excel(\n",
    "    writer, sheet_name='Global Methane Metric Emissions')\n",
    "    UKCH4Ems.to_excel( \n",
    "    writer, sheet_name='UK Methane Metric Emissions')"
   ]
  },
  {
   "cell_type": "code",
   "execution_count": 86,
   "metadata": {
    "scrolled": true
   },
   "outputs": [
    {
     "data": {
      "image/png": "[encoded data removed]",
      "text/plain": [
       "<Figure size 432x288 with 1 Axes>"
      ]
     },
     "metadata": {
      "needs_background": "light"
     },
     "output_type": "display_data"
    }
   ],
   "source": [
    "#Plot of UK CH4 Metric Emissions 1850 - 2017. Assuming const emissions pre 1850.\n",
    "t = GlobalCH4MetricEms['Year'][350:517]\n",
    "s = GlobalCH4MetricEms['CO2feEms'][350:517]\n",
    "u = GlobalCH4MetricEms['CO2we'][350:517]\n",
    "v = GlobalCH4MetricEms['Old-GWP*'][350:517]\n",
    "w = GlobalCH4MetricEms['CGWP'][350:517]\n",
    "x = GlobalCH4MetricEms['GWP'][350:517]\n",
    "y = GlobalCH4MetricEms['CGTP'][350:517]\n",
    "\n",
    "fig, (ax) = plt.subplots()\n",
    "ax.axhline(linewidth=1,color='black')\n",
    "\n",
    "\n",
    "ax.set(xlabel='Time (Years)', ylabel='CO2 Equivalent Emissions (MtCO2e/year)',\n",
    "       title='Historic Global CH4 Metric Emissions')\n",
    "# ax.grid()\n",
    "\n",
    "# red_patch = mpatches.Patch(color='red', label='Agriculture')\n",
    "# plt.legend(handles=[red_patch])\n",
    "\n",
    "\n",
    "plt.plot(t, s, '--', color=\"blue\", label = 'CFE (CO2-fe)')\n",
    "plt.plot(t, u, '--', color=\"red\", label = 'GWP* (CO2-we)')\n",
    "# plt.plot(t, v, '--', color=\"green\", label = 'OldGWP*')\n",
    "# plt.plot(t, w, '--', color=\"orange\", label = 'CGWP')\n",
    "plt.plot(t, y, '--', color=\"orange\", label = 'CGTP (CO2-e)')\n",
    "plt.plot(t, x, '--', color=\"purple\", label = 'GWP (CO2-e)')\n",
    "\n",
    "ax.legend()\n",
    "\n",
    "plt.savefig('Graphs/Global CH4 Metric Emissions.png', dpi=500)"
   ]
  },
  {
   "cell_type": "code",
   "execution_count": 87,
   "metadata": {},
   "outputs": [
    {
     "data": {
      "image/png": "[encoded data removed]",
      "text/plain": [
       "<Figure size 432x288 with 1 Axes>"
      ]
     },
     "metadata": {
      "needs_background": "light"
     },
     "output_type": "display_data"
    }
   ],
   "source": [
    "#Plot of UK CH4 Metric Emissions 1850 - 2017. Excluding Step-Pulse style metrics.\n",
    "t = GlobalCH4MetricEms['Year'][350:517]\n",
    "s = GlobalCH4MetricEms['CO2feEms'][350:517]\n",
    "u = GlobalCH4MetricEms['CO2we'][350:517]\n",
    "v = GlobalCH4MetricEms['Old-GWP*'][350:517]\n",
    "w = GlobalCH4MetricEms['CGWP'][350:517]\n",
    "x = GlobalCH4MetricEms['GWP'][350:517]\n",
    "y = GlobalCH4MetricEms['CGTP'][350:517]\n",
    "\n",
    "fig, (ax) = plt.subplots()\n",
    "ax.axhline(linewidth=1,color='black')\n",
    "\n",
    "\n",
    "ax.set(xlabel='Time (Years)', ylabel='CO2 Equivalent Emissions (MtCO2e/year)',\n",
    "       title='Historic Global CH4 Metric Emissions - Excluding Step-Pulse Metrics')\n",
    "# ax.grid()\n",
    "\n",
    "# red_patch = mpatches.Patch(color='red', label='Agriculture')\n",
    "# plt.legend(handles=[red_patch])\n",
    "\n",
    "plt.plot(t, s, '--', color=\"blue\", label = 'CFE (CO2fe)')\n",
    "plt.plot(t, u, '--', color=\"red\", label = 'GWP* (CO2we)')\n",
    "# plt.plot(t, v, '--', color=\"green\", label = 'OldGWP*')\n",
    "# plt.plot(t, w, '--', color=\"orange\", label = 'CGWP')\n",
    "# plt.plot(t, y, '--', color=\"orange\", label = 'CGTP')\n",
    "plt.plot(t, x, '--', color=\"purple\", label = 'GWP (CO2-e)')\n",
    "\n",
    "ax.legend()\n",
    "\n",
    "plt.savefig('Graphs/Global CH4 Metric Emissions - Excluding Step-Pulse Metrics.png', dpi=500)"
   ]
  },
  {
   "cell_type": "code",
   "execution_count": 88,
   "metadata": {},
   "outputs": [
    {
     "data": {
      "image/png": "[encoded data removed]",
      "text/plain": [
       "<Figure size 432x288 with 1 Axes>"
      ]
     },
     "metadata": {
      "needs_background": "light"
     },
     "output_type": "display_data"
    }
   ],
   "source": [
    "#Plot of UK CH4 Metric Emissions 1850 - 2017\n",
    "t = UKCH4MetricEms['Year'][350:517]\n",
    "s = UKCH4MetricEms['CO2feEms'][350:517]\n",
    "u = UKCH4MetricEms['CO2we'][350:517]\n",
    "v = UKCH4MetricEms['Old-GWP*'][350:517]\n",
    "w = UKCH4MetricEms['CGWP'][350:517]\n",
    "x = UKCH4MetricEms['GWP'][350:517]\n",
    "y = UKCH4MetricEms['CGTP'][350:517]\n",
    "\n",
    "fig, (ax) = plt.subplots()\n",
    "ax.axhline(linewidth=1,color='black')\n",
    "\n",
    "\n",
    "ax.set(xlabel='Time (Years)', ylabel='CO2 Equivalent Emissions (MtCO2e/year)',\n",
    "       title='Historic UK CH4 Metric Emissions')\n",
    "# ax.grid()\n",
    "\n",
    "# red_patch = mpatches.Patch(color='red', label='Agriculture')\n",
    "# plt.legend(handles=[red_patch])\n",
    "\n",
    "plt.plot(t, s, '--', color=\"blue\", label = 'CFE (CO2-fe)')\n",
    "plt.plot(t, u, '--', color=\"red\", label = 'GWP* (CO2-we)')\n",
    "# plt.plot(t, v, '--', color=\"green\", label = 'OldGWP*')\n",
    "# plt.plot(t, w, '--', color=\"orange\", label = 'CGWP')\n",
    "plt.plot(t, y, '--', color=\"orange\", label = 'CGTP (CO2-e)')\n",
    "plt.plot(t, x, '--', color=\"purple\", label = 'GWP (CO2-e)')\n",
    "\n",
    "ax.legend()\n",
    "\n",
    "plt.savefig('Graphs/UK CH4 Metric Emissions.png', dpi=500)"
   ]
  },
  {
   "cell_type": "code",
   "execution_count": 89,
   "metadata": {},
   "outputs": [
    {
     "data": {
      "image/png": "[encoded data removed]",
      "text/plain": [
       "<Figure size 432x288 with 1 Axes>"
      ]
     },
     "metadata": {
      "needs_background": "light"
     },
     "output_type": "display_data"
    }
   ],
   "source": [
    "#Plot of UK CH4 Metric Emissions 1850 - 2017. Excluding Step-Pulse style metrics.\n",
    "t = UKCH4MetricEms['Year'][350:517]\n",
    "s = UKCH4MetricEms['CO2feEms'][350:517]\n",
    "u = UKCH4MetricEms['CO2we'][350:517]\n",
    "v = UKCH4MetricEms['Old-GWP*'][350:517]\n",
    "w = UKCH4MetricEms['CGWP'][350:517]\n",
    "x = UKCH4MetricEms['GWP'][350:517]\n",
    "y = UKCH4MetricEms['CGTP'][350:517]\n",
    "\n",
    "fig, (ax) = plt.subplots()\n",
    "ax.axhline(linewidth=1,color='black')\n",
    "\n",
    "\n",
    "ax.set(xlabel='Time (Years)', ylabel='CO2 Equivalent Emissions (MtCO2e/year)',\n",
    "       title='Historic UK CH4 Metric Emissions - Excluding CGTP')\n",
    "# ax.grid()\n",
    "\n",
    "# red_patch = mpatches.Patch(color='red', label='Agriculture')\n",
    "# plt.legend(handles=[red_patch])\n",
    "\n",
    "plt.plot(t, s, '--', color=\"blue\", label = 'CFE (CO2-fe)')\n",
    "plt.plot(t, u, '--', color=\"red\", label = 'GWP* (CO2-we)')\n",
    "plt.plot(t, x, '--', color=\"purple\", label = 'GWP (CO2-e)')\n",
    "# plt.plot(t, v, '--', color=\"green\", label = 'OldGWP*')\n",
    "# plt.plot(t, w, '--', color=\"orange\", label = 'CGWP')\n",
    "# plt.plot(t, y, '--', color=\"orange\", label = 'CGTP')\n",
    "\n",
    "ax.legend()\n",
    "\n",
    "plt.savefig('Graphs/UK CH4 Metric Emissions - Excluding CGTP.png', dpi=500)"
   ]
  },
  {
   "cell_type": "markdown",
   "metadata": {},
   "source": [
    "# UK Agriculture Example Calculation"
   ]
  },
  {
   "cell_type": "code",
   "execution_count": 62,
   "metadata": {},
   "outputs": [],
   "source": [
    "UKAgriCH4Ems = UKCH4Ems[['Agriculture','Year']]\n",
    "\n",
    "UKAgriCH4Ems = UKAgriCH4Ems.rename(columns={\"Agriculture\": \"SLCP Emissions\"})"
   ]
  },
  {
   "cell_type": "code",
   "execution_count": 63,
   "metadata": {},
   "outputs": [],
   "source": [
    "UKAgriCH4MetricEms = addMetricEmissions(UKAgriCH4Ems,ReducedCO2feVectorMetric)\n"
   ]
  },
  {
   "cell_type": "markdown",
   "metadata": {},
   "source": [
    "# CH4 Step-Change Emissions Example"
   ]
  },
  {
   "cell_type": "code",
   "execution_count": 64,
   "metadata": {},
   "outputs": [],
   "source": [
    "TimePeriod = 200 #Years\n",
    "SLCPEmissions = np.ones(TimePeriod).tolist()\n",
    "SLCPEmissions[0:49]=np.zeros(50).tolist()\n",
    "Years = np.arange(-50,TimePeriod-49).tolist()\n",
    "\n",
    "SLCPTimeSeries = pd.DataFrame(data = {'Year':Years,'SLCP Emissions':SLCPEmissions})\n",
    "\n",
    "# CO2fe Calculator Constants\n",
    "StepTestEmissionsOutput = addMetricEmissions(SLCPTimeSeries,ReducedCO2feVectorMetric)\n",
    "\n"
   ]
  },
  {
   "cell_type": "code",
   "execution_count": 65,
   "metadata": {},
   "outputs": [
    {
     "data": {
      "image/png": "[encoded data removed]",
      "text/plain": [
       "<Figure size 432x288 with 3 Axes>"
      ]
     },
     "metadata": {
      "needs_background": "light"
     },
     "output_type": "display_data"
    }
   ],
   "source": [
    "t = StepTestEmissionsOutput['Year']\n",
    "s = StepTestEmissionsOutput['CO2feEms']\n",
    "u = StepTestEmissionsOutput['CO2we']\n",
    "v = StepTestEmissionsOutput['CGTP']\n",
    "x = StepTestEmissionsOutput['GWP']\n",
    "\n",
    "fig = plt.figure()\n",
    "bax = brokenaxes(ylims=((0, 140), (3670, 3720)), hspace=.05)\n",
    "bax.plot(t, s, color = (0.1, 0.2, 0.9, 0.6), linewidth = 2.5)\n",
    "bax.plot(t, u, color = \"red\", label='CO2we')\n",
    "bax.bar(t, v, color = \"green\", label='CGTP')\n",
    "bax.plot(t, x, color = \"purple\", label='CO2e')\n",
    "\n",
    "\n",
    "bax.set_xlabel('Time (Years)')\n",
    "bax.set_ylabel('CO2-fe Emission (MtCO2e)')\n",
    "bax.set_title('CO2-fe Emission for a 1Mt Step of CH4')\n",
    "bax.axhline(linewidth=1,color='black')\n",
    "# bax.axvline(linewidth=1,color='black')\n",
    "\n",
    "bax.grid(color=(0, 0, 0, 0.3), linestyle='-', linewidth=0.05)\n",
    "bax.legend()\n",
    "\n",
    "plt.show()"
   ]
  },
  {
   "cell_type": "code",
   "execution_count": 66,
   "metadata": {},
   "outputs": [],
   "source": [
    "# Export Data\n",
    "\n",
    "with ExcelWriter(r'Graphs/StepCH4Data.xlsx') as writer:  \n",
    "    StepTestEmissionsOutput.to_excel(\n",
    "    writer, sheet_name='CO2-equivalent-emissions')"
   ]
  },
  {
   "cell_type": "markdown",
   "metadata": {},
   "source": [
    "# RCP Metric Calculations"
   ]
  },
  {
   "cell_type": "code",
   "execution_count": 67,
   "metadata": {},
   "outputs": [],
   "source": [
    "# Import Data from the excel book\n",
    "# Load multigas RCP emissions data from excel\n",
    "RCP26Ems = pd.read_excel (\n",
    "    r'RCP Data/RCP3PD_EMISSIONS.xls', \n",
    "    sheet_name='Emissions')[['Year','CO2','CH4','N2O']]\n",
    "RCP26Ems['SLCP Emissions'] = RCP26Ems['CH4']\n",
    "\n",
    "RCP45Ems = pd.read_excel (\n",
    "    r'RCP Data/RCP45_EMISSIONS.xls', \n",
    "    sheet_name='Emissions')[['Year','CO2','CH4','N2O']]\n",
    "RCP45Ems['SLCP Emissions'] = RCP45Ems['CH4']\n",
    "\n",
    "RCP60Ems = pd.read_excel (\n",
    "    r'RCP Data/RCP6_EMISSIONS.xls', \n",
    "    sheet_name='Emissions')[['Year','CO2','CH4','N2O']]\n",
    "RCP60Ems['SLCP Emissions'] = RCP60Ems['CH4']\n",
    "\n",
    "RCP85Ems = pd.read_excel (\n",
    "    r'RCP Data/RCP85_EMISSIONS.xls', \n",
    "    sheet_name='Emissions')[['Year','CO2','CH4','N2O']]\n",
    "RCP85Ems['SLCP Emissions'] = RCP85Ems['CH4']"
   ]
  },
  {
   "cell_type": "code",
   "execution_count": 68,
   "metadata": {},
   "outputs": [],
   "source": [
    "# Calculate Metric Emissions\n",
    "ReducedCO2feVectorMetric = CO2feVectorMetric[['YearInverted','CO2fe']]\n",
    "\n",
    "RCP26MetricEms = addMetricEmissions(RCP26Ems,ReducedCO2feVectorMetric)\n",
    "RCP45MetricEms = addMetricEmissions(RCP45Ems,ReducedCO2feVectorMetric)\n",
    "RCP60MetricEms = addMetricEmissions(RCP60Ems,ReducedCO2feVectorMetric)\n",
    "RCP85MetricEms = addMetricEmissions(RCP85Ems,ReducedCO2feVectorMetric)"
   ]
  },
  {
   "cell_type": "code",
   "execution_count": 69,
   "metadata": {},
   "outputs": [],
   "source": [
    "# Save in Excel Workbook\n",
    "with ExcelWriter(r'RCP Data/RCPMetricData.xlsx') as writer:  \n",
    "    RCP26MetricEms.to_excel(\n",
    "    writer, sheet_name='RCP 26 Metric Emissions')\n",
    "    RCP45MetricEms.to_excel( \n",
    "    writer, sheet_name='RCP 45 Metric Emissions')\n",
    "    RCP60MetricEms.to_excel( \n",
    "    writer, sheet_name='RCP 60 Metric Emissions')\n",
    "    RCP85MetricEms.to_excel( \n",
    "    writer, sheet_name='RCP 85 Metric Emissions')"
   ]
  },
  {
   "cell_type": "markdown",
   "metadata": {},
   "source": [
    "# Equivalent Emissions Calculator\n",
    "\n",
    "This calculator takes a timeseries of historic SLCP emissions and calculates the CO2-fe emission of a new SLCP emission based on this.\n",
    "\n",
    "One thing to bear in mind is that a zero SCLP emission in the current year is equivalent to negative CO2 emissions. Therefore this value cannot simply be multiplied for larger/smaller emissions but has a (slightly) more complex dependence.\n",
    "\n",
    "i.e. CO2feEmissions(t) = REch4/REco2*(EmissionSLCP(t) - B) for a given historic timeseries of SLCP emissions. Where B is defined by the historic timeseries: B = int E(t)*VM(t) from t = -1 to -infinity"
   ]
  },
  {
   "cell_type": "code",
   "execution_count": 70,
   "metadata": {},
   "outputs": [],
   "source": [
    "# ReducedCO2feVectorMetric = CO2feVectorMetric[['YearInverted','CO2fe']]\n",
    "\n",
    "# # Test Emissions Timeseries\n",
    "# TimePeriod = 100 #Years\n",
    "# SLCPEmissions = np.ones(TimePeriod).tolist()\n",
    "# Years = np.arange(1900,1900+TimePeriod).tolist()\n",
    "\n",
    "# EmissionsSeries = pd.DataFrame(data = {'Year':Years,'SLCP Emissions':SLCPEmissions})\n",
    "\n",
    "# addMetricEmissions(EmissionsSeries,ReducedCO2feVectorMetric).tail()\n",
    "\n",
    "# # N.B. Still need to extend the Vector Metric.\n"
   ]
  },
  {
   "cell_type": "code",
   "execution_count": 71,
   "metadata": {},
   "outputs": [],
   "source": [
    "def addMetricEmissions(slcpEmissionsSeries,VectorMetric):\n",
    "    \n",
    "# #   Key to Metric Constants\n",
    "    \n",
    "    slcpEmissionsSeries=addCO2feEmsColumn(VectorMetric, slcpEmissionsSeries)\n",
    "    slcpEmissionsSeries=addCO2weEmsColumn(slcpEmissionsSeries)\n",
    "    slcpEmissionsSeries=addOldGWPstarEmsColumn(slcpEmissionsSeries)\n",
    "    slcpEmissionsSeries=addCGWPEmsColumn(slcpEmissionsSeries)\n",
    "    slcpEmissionsSeries=addCGTPEmsColumn(slcpEmissionsSeries)\n",
    "    slcpEmissionsSeries=addGWPEmsColumn(slcpEmissionsSeries)\n",
    "    \n",
    "#     Remove unnecessary columns\n",
    "    slcpEmissionsSeries = slcpEmissionsSeries.drop(['NormalisedYear', 'MultipliedEmissions'], axis=1)\n",
    "    return slcpEmissionsSeries\n",
    "    "
   ]
  },
  {
   "cell_type": "markdown",
   "metadata": {},
   "source": [
    "## Metric Constants"
   ]
  },
  {
   "cell_type": "code",
   "execution_count": 72,
   "metadata": {},
   "outputs": [],
   "source": [
    "# Combine all the metric constants into a single object to make them easier to keep track of\n",
    "\n",
    "MetricConstants = pd.DataFrame({\n",
    "    'GWP100': [28], \n",
    "    'H': [100], \n",
    "    'CGWP100': [4300], \n",
    "    'CGTP75': [3700], \n",
    "    'r': [0.75], \n",
    "    's': [0.25], \n",
    "    'dt': [20],\n",
    "    'REch4':[0.000599],       #W/m2ppb AR5 Chapt.8 Appendix 8.A. 1.65 * 0.000363\n",
    "    'REco2':[0.0000137],      #W/m2ppb AR5 Chapt.8 Appendix 8.A.\n",
    "    'Convch4':[0.351828],  #ppb/MtCH4 GIR\n",
    "    'Convco2':[0.1282496]   #ppb/MtCO2 [0.46895] #ppb/MtC GIR - where does this come from?\n",
    "})"
   ]
  },
  {
   "cell_type": "markdown",
   "metadata": {},
   "source": [
    "## GWP Column Generation Function"
   ]
  },
  {
   "cell_type": "code",
   "execution_count": 73,
   "metadata": {},
   "outputs": [],
   "source": [
    "def addGWPEmsColumn(slcpEmissionsSeries):\n",
    "    \n",
    "    slcpEmissionsSeries[\"GWP\"] = np.zeros(len(slcpEmissionsSeries.index)).tolist()\n",
    "\n",
    "    GWP100 = MetricConstants['GWP100'][0]\n",
    "    \n",
    "    for i in slcpEmissionsSeries.index:\n",
    "        Et = slcpEmissionsSeries[\"SLCP Emissions\"].loc[i]\n",
    "        slcpEmissionsSeries[\"GWP\"].loc[i] = GWP100*Et\n",
    "\n",
    "    return slcpEmissionsSeries"
   ]
  },
  {
   "cell_type": "markdown",
   "metadata": {},
   "source": [
    "## CGWP Column Generation Function"
   ]
  },
  {
   "cell_type": "code",
   "execution_count": 74,
   "metadata": {},
   "outputs": [],
   "source": [
    "def addCGWPEmsColumn(slcpEmissionsSeries):\n",
    "    \n",
    "    slcpEmissionsSeries[\"CGWP\"] = np.zeros(len(slcpEmissionsSeries.index)).tolist()\n",
    "\n",
    "    CGWP100 = MetricConstants['CGWP100'][0]\n",
    "    \n",
    "    for i in slcpEmissionsSeries.index:\n",
    "        Et = slcpEmissionsSeries[\"SLCP Emissions\"].loc[i]\n",
    "        \n",
    "        if i == 0:\n",
    "            Etdt = 0\n",
    "            slcpEmissionsSeries[\"CGWP\"].loc[i] = (CGWP100*(Et-Etdt))\n",
    "        else:\n",
    "            Etdt = slcpEmissionsSeries[\"SLCP Emissions\"].loc[i-1]\n",
    "            slcpEmissionsSeries[\"CGWP\"].loc[i] = (CGWP100*(Et-Etdt))\n",
    "    \n",
    "    return slcpEmissionsSeries"
   ]
  },
  {
   "cell_type": "markdown",
   "metadata": {},
   "source": [
    "## CGTP Column Generation Function"
   ]
  },
  {
   "cell_type": "code",
   "execution_count": 75,
   "metadata": {},
   "outputs": [],
   "source": [
    "def addCGTPEmsColumn(slcpEmissionsSeries):\n",
    "    \n",
    "    slcpEmissionsSeries[\"CGTP\"] = np.zeros(len(slcpEmissionsSeries.index)).tolist()\n",
    "\n",
    "    CGTP75 = MetricConstants['CGTP75'][0]\n",
    "    \n",
    "    for i in slcpEmissionsSeries.index:\n",
    "        Et = slcpEmissionsSeries[\"SLCP Emissions\"].loc[i]\n",
    "        \n",
    "        if i == 0:\n",
    "            Etdt = 0\n",
    "            slcpEmissionsSeries[\"CGTP\"].loc[i] = (CGTP75*(Et-Etdt))\n",
    "        else:\n",
    "            Etdt = slcpEmissionsSeries[\"SLCP Emissions\"].loc[i-1]\n",
    "            slcpEmissionsSeries[\"CGTP\"].loc[i] = (CGTP75*(Et-Etdt))\n",
    "    \n",
    "    return slcpEmissionsSeries"
   ]
  },
  {
   "cell_type": "markdown",
   "metadata": {},
   "source": [
    "## Old-GWP* Column Generation Function"
   ]
  },
  {
   "cell_type": "code",
   "execution_count": 76,
   "metadata": {},
   "outputs": [],
   "source": [
    "def addOldGWPstarEmsColumn(slcpEmissionsSeries):\n",
    "    \n",
    "    slcpEmissionsSeries[\"Old-GWP*\"] = np.zeros(len(slcpEmissionsSeries.index)).tolist()\n",
    "    \n",
    "    #GWP* constants:\n",
    "    H = MetricConstants['H'][0]\n",
    "    GWP100 = MetricConstants['GWP100'][0]\n",
    "\n",
    "    \n",
    "    for i in slcpEmissionsSeries.index:\n",
    "        Et = slcpEmissionsSeries[\"SLCP Emissions\"].loc[i]\n",
    "        \n",
    "        if i == 0:\n",
    "            Etdt = 0\n",
    "            slcpEmissionsSeries[\"Old-GWP*\"].loc[i] = (GWP100*(Et-Etdt)*H)\n",
    "        else:\n",
    "            Etdt = slcpEmissionsSeries[\"SLCP Emissions\"].loc[i-1]\n",
    "            slcpEmissionsSeries[\"Old-GWP*\"].loc[i] = (GWP100*(Et-Etdt)*H)\n",
    "    \n",
    "    return slcpEmissionsSeries"
   ]
  },
  {
   "cell_type": "markdown",
   "metadata": {},
   "source": [
    "##  CO2we Column Generation Function"
   ]
  },
  {
   "cell_type": "code",
   "execution_count": 77,
   "metadata": {},
   "outputs": [],
   "source": [
    "def addCO2weEmsColumn(slcpEmissionsSeries):\n",
    "    \n",
    "    slcpEmissionsSeries[\"CO2we\"] = np.zeros(len(slcpEmissionsSeries.index)).tolist()\n",
    "    \n",
    "    #CO2we constants:\n",
    "    r = MetricConstants['r'][0]\n",
    "    s = MetricConstants['s'][0]\n",
    "    H = MetricConstants['H'][0]\n",
    "    GWP100 = MetricConstants['GWP100'][0]\n",
    "    dt = MetricConstants['dt'][0]\n",
    "    \n",
    "    for i in slcpEmissionsSeries.index:\n",
    "        Et = slcpEmissionsSeries[\"SLCP Emissions\"].loc[i]\n",
    "        \n",
    "        if i > 19:\n",
    "            Etdt = slcpEmissionsSeries[\"SLCP Emissions\"].loc[i-int(dt)]\n",
    "            slcpEmissionsSeries[\"CO2we\"].loc[i] = GWP100 * ((r*(Et-Etdt)*H)/dt + s*Et)\n",
    "        elif i < 20:\n",
    "            slcpEmissionsSeries[\"CO2we\"].loc[i] = GWP100 * ((r*Et*H)/dt + s*Et)\n",
    "    \n",
    "    return slcpEmissionsSeries"
   ]
  },
  {
   "cell_type": "markdown",
   "metadata": {},
   "source": [
    "## CO2fe Column Generation Functions"
   ]
  },
  {
   "cell_type": "code",
   "execution_count": 78,
   "metadata": {},
   "outputs": [],
   "source": [
    "# Add the \"CO2feEms\" column, Gamma is the ratio of radiative efficiencies\n",
    "\n",
    "def addCO2feEmsColumn(VectorMetric, slcpEmissionsSeries):\n",
    "    \n",
    "    REch4 = MetricConstants['REch4'][0]\n",
    "    REco2 = MetricConstants['REco2'][0]\n",
    "    Convch4 = MetricConstants['Convch4'][0]\n",
    "    Convco2 = MetricConstants['Convco2'][0]\n",
    "    \n",
    "    Gamma = (Convch4*REch4)/(Convco2*REco2)\n",
    "    \n",
    "    slcpEmissionsSeries = addBValueColumn(VectorMetric, slcpEmissionsSeries)\n",
    "    \n",
    "    slcpEmissionsSeries[\"CO2feEms\"] = Gamma * (slcpEmissionsSeries[\"SLCP Emissions\"] + slcpEmissionsSeries[\"BValue\"])\n",
    "    \n",
    "    return slcpEmissionsSeries"
   ]
  },
  {
   "cell_type": "code",
   "execution_count": 79,
   "metadata": {},
   "outputs": [],
   "source": [
    "# Add B value column and insert the b value for each year\n",
    "\n",
    "def addBValueColumn(VectorMetric, slcpEmissionsSeries):\n",
    "    \n",
    "    slcpEmissionsSeries[\"BValue\"] = np.zeros(len(slcpEmissionsSeries.index)).tolist()\n",
    "    \n",
    "    for i in slcpEmissionsSeries.index:\n",
    "        slcpEmissionsSeries[\"BValue\"].loc[i] = generateBValue(VectorMetric, slcpEmissionsSeries, slcpEmissionsSeries[\"Year\"].loc[i])\n",
    "        \n",
    "    return slcpEmissionsSeries\n",
    "        \n"
   ]
  },
  {
   "cell_type": "code",
   "execution_count": 80,
   "metadata": {},
   "outputs": [],
   "source": [
    "# Generate B value\n",
    "    \n",
    "def generateBValue(VectorMetric, slcpEmissionsSeries, YearSpecified):\n",
    "#   slcpEmissionsSeries takes the form of a dataframe with columns \"Year\" and \"SLCP Emissions\"\n",
    "\n",
    "#   Create a \"NormalisedYear\" column\n",
    "    slcpEmissionsSeries[\"NormalisedYear\"] = np.zeros(len(slcpEmissionsSeries.index)).tolist()\n",
    "    slcpEmissionsSeries[\"NormalisedYear\"] = slcpEmissionsSeries[\"Year\"] - YearSpecified\n",
    "#   Create a new column for the MultipliedEmissions\n",
    "    slcpEmissionsSeries[\"MultipliedEmissions\"] = np.zeros(len(slcpEmissionsSeries.index)).tolist()\n",
    "    \n",
    "#   Match indexes\n",
    "    slcpEmissionsSeries = slcpEmissionsSeries.set_index('NormalisedYear')\n",
    "    VectorMetric = VectorMetric.set_index('YearInverted')\n",
    "    \n",
    "#   Calculate the MultipliedEmissions\n",
    "    MultipliedEmissions = slcpEmissionsSeries[\"SLCP Emissions\"].mul(VectorMetric[\"CO2fe\"],fill_value=0)\n",
    "    slcpEmissionsSeries[\"MultipliedEmissions\"] = MultipliedEmissions \n",
    "    \n",
    "    Total = sum(slcpEmissionsSeries[\"MultipliedEmissions\"])-slcpEmissionsSeries[\"MultipliedEmissions\"].loc[0]\n",
    "   \n",
    "    slcpEmissionsSeries.reset_index\n",
    "    VectorMetric.reset_index\n",
    "    \n",
    "#   Sum the Values in the \"MultipliedEmissions\" column to get to the CO2-fe emission for that year.\n",
    "    return Total    \n",
    "\n",
    "\n"
   ]
  },
  {
   "cell_type": "markdown",
   "metadata": {},
   "source": [
    "# Forcing Equivalent Emissions - Making the Vector\n",
    "\n",
    "Aim is to take an SLCP emissions timeseries and output a CO2-equivalent timeseries for these metrics:\n",
    "\n",
    "GWP100\n",
    "Old-GWP*\n",
    "CGWP\n",
    "GWP*\n",
    "CO2 FE"
   ]
  },
  {
   "cell_type": "markdown",
   "metadata": {},
   "source": [
    "## Making the CFE Vector Metric"
   ]
  },
  {
   "cell_type": "code",
   "execution_count": 81,
   "metadata": {},
   "outputs": [],
   "source": [
    "# Test Emissions Timeseries\n",
    "TimePeriod = 300 #Years\n",
    "SLCPEmissions = np.zeros(TimePeriod).tolist()\n",
    "SLCPEmissions[0] = 1\n",
    "Years = np.arange(0,TimePeriod).tolist()\n",
    "\n",
    "SLCPTimeSeries = pd.DataFrame(data = {'Year':Years,'SLCP':SLCPEmissions})\n",
    "\n",
    "# CO2fe Calculator Constants\n",
    "\n",
    "# CARBON\n",
    "CarbonBoxes = np.array([0.2173,0.2240,0.2824,0.2763])\n",
    "CarbonLifetimes = np.array([1000000,394.4,36.54,4.304])\n",
    "\n",
    "# METHANE\n",
    "MethaneBoxes = np.array([1,0,0,0])\n",
    "MethaneLifetimes = np.array([9.15,1,1,1])\n",
    "StepDownPercentage = 0\n",
    "\n",
    "# CO2we Calculator Constants\n",
    "dt = 20\n",
    "H = 100\n",
    "GWPH = 28\n",
    "r = 0.75\n",
    "s = 0.25\n",
    "\n",
    "DecayConstants = pd.DataFrame(data = {'CarbonBoxes':CarbonBoxes,'CarbonLifetimes':CarbonLifetimes,'MethaneLifeBoxes':MethaneBoxes,'MethaneLifetimes':MethaneLifetimes})\n",
    "\n",
    "PulseTestEmissionsOutput = CalculateCO2ForcingEquivalent(SLCPTimeSeries)"
   ]
  },
  {
   "cell_type": "code",
   "execution_count": 82,
   "metadata": {},
   "outputs": [
    {
     "name": "stderr",
     "output_type": "stream",
     "text": [
      "/Users/student/anaconda3/lib/python3.7/site-packages/ipykernel_launcher.py:7: SettingWithCopyWarning: \n",
      "A value is trying to be set on a copy of a slice from a DataFrame\n",
      "\n",
      "See the caveats in the documentation: http://pandas.pydata.org/pandas-docs/stable/indexing.html#indexing-view-versus-copy\n",
      "  import sys\n",
      "/Users/student/anaconda3/lib/python3.7/site-packages/ipykernel_launcher.py:8: SettingWithCopyWarning: \n",
      "A value is trying to be set on a copy of a slice from a DataFrame\n",
      "\n",
      "See the caveats in the documentation: http://pandas.pydata.org/pandas-docs/stable/indexing.html#indexing-view-versus-copy\n",
      "  \n"
     ]
    }
   ],
   "source": [
    "#Generating a vector-metric for CO2-fe\n",
    "\n",
    "CO2feVectorMetric = PulseTestEmissionsOutput\n",
    "CO2feVectorMetric['CO2feInverted']=CO2feVectorMetric['CO2fe']\n",
    "CO2feVectorMetric['YearInverted']=CO2feVectorMetric['Year']\n",
    "for i in CO2feVectorMetric.index:\n",
    "    CO2feVectorMetric['CO2feInverted'][i]= CO2feVectorMetric['CO2fe'][len(CO2feVectorMetric['CO2fe'])-i-1]\n",
    "    CO2feVectorMetric['YearInverted'][i]= -CO2feVectorMetric['Year'][i]"
   ]
  },
  {
   "cell_type": "code",
   "execution_count": 83,
   "metadata": {
    "scrolled": true
   },
   "outputs": [
    {
     "data": {
      "image/png": "[encoded data removed]",
      "text/plain": [
       "<Figure size 432x288 with 1 Axes>"
      ]
     },
     "metadata": {
      "needs_background": "light"
     },
     "output_type": "display_data"
    }
   ],
   "source": [
    "# Plot the metric\n",
    "t = CO2feVectorMetric['YearInverted'][1:99]\n",
    "s = PulseTestEmissionsOutput['CO2fe'][1:99]\n",
    "\n",
    "\n",
    "fig, (ax) = plt.subplots()\n",
    "ax.bar(t, s)\n",
    "\n",
    "\n",
    "ax.set(xlabel='Time (Years)', ylabel='CO2-fe Metric Factor',\n",
    "       title='CO2-fe Vector Metric Factors')\n",
    "ax.grid()\n",
    "\n",
    "plt.savefig('Graphs/CO2fe Vector Metric Factors.png', dpi=500)"
   ]
  },
  {
   "cell_type": "code",
   "execution_count": 84,
   "metadata": {},
   "outputs": [
    {
     "data": {
      "text/plain": [
       "mpf('-0.03805417975831038')"
      ]
     },
     "execution_count": 84,
     "metadata": {},
     "output_type": "execute_result"
    }
   ],
   "source": [
    "PulseTestEmissionsOutput['CO2fe'][1]"
   ]
  },
  {
   "cell_type": "markdown",
   "metadata": {},
   "source": [
    "# CO2-fe and CO2-we Emissions Calculator"
   ]
  },
  {
   "cell_type": "code",
   "execution_count": 85,
   "metadata": {},
   "outputs": [],
   "source": [
    "# CO2fe and CO2we Emissions Calculator\n",
    "\n",
    "def Dco2(k,t):\n",
    "    Dco2 = CarbonBoxes[k]*exp(-t/(CarbonLifetimes[k]))\n",
    "    return Dco2\n",
    "    \n",
    "def Dch4(k,t):\n",
    "    Dch4 = MethaneBoxes[k]*exp(-t/(MethaneLifetimes[k]))\n",
    "    if t < 20:\n",
    "        return Dch4\n",
    "    else:\n",
    "        return (1-StepDownPercentage)*Dch4\n",
    "\n",
    "def CalculateCO2ForcingEquivalent(SLCPTimeSeries):\n",
    "    \n",
    "    CO2feTimeSeries = SLCPTimeSeries\n",
    "    \n",
    "#   Create the output DataFrame and add Columns for CO2fe(t) and CO2we(t) emissions and R(t) and S(t) intermediaries.\n",
    "    CO2feTimeSeries = SLCPTimeSeries\n",
    "    BlankEmissions = np.zeros(len(SLCPTimeSeries))\n",
    "    FourColumnBlankEmissions = pd.DataFrame(np.array([BlankEmissions,BlankEmissions,BlankEmissions,BlankEmissions]).transpose())\n",
    "    CO2feTimeSeries['CO2fe'] = BlankEmissions\n",
    "    CO2feTimeSeries['CO2we'] = BlankEmissions\n",
    "    \n",
    "#   Make R and S dataframes\n",
    "    R = pd.concat([SLCPTimeSeries[{'Year','SLCP'}],pd.DataFrame(FourColumnBlankEmissions)], axis=1)\n",
    "    R['Total'] = BlankEmissions\n",
    "    S = pd.concat([SLCPTimeSeries[{'Year','SLCP'}],pd.DataFrame(FourColumnBlankEmissions)], axis=1)\n",
    "    S['Total'] = BlankEmissions\n",
    "\n",
    "#   Compute the CO2fe values for each year\n",
    "    for i in CO2feTimeSeries.index:\n",
    "        \n",
    "        for k in DecayConstants.index:\n",
    "#           Compute S(i) and enter that value for the current i (Year)\n",
    "            S.loc[i,k] = mp.nsum(lambda j: CO2feTimeSeries.loc[int(j),'SLCP']*Dch4(k,i-j), [0,i])\n",
    "\n",
    "#           Compute R(i) given S(i) and existing values of R(i)\n",
    "            R.loc[i,k] = mp.nsum(lambda j: (S.loc[int(j),'Total']-R.loc[int(j),'Total'])*Dco2(k,i-j), [0,i-1])\n",
    "    \n",
    "        S.loc[i,'Total'] = mp.nsum(lambda k: S.loc[i,k], [0,len(DecayConstants.index)-1])\n",
    "        R.loc[i,'Total'] = mp.nsum(lambda k: R.loc[i,k], [0,len(DecayConstants.index)-1])\n",
    "\n",
    "#       Compute CO2fe(i) from these values of S(i) and R(i)\n",
    "        CO2feTimeSeries.loc[i,'CO2fe'] = (S.loc[i,'Total'] - R.loc[i,'Total'])\n",
    "        \n",
    "#       Compute CO2we\n",
    "        Et = CO2feTimeSeries.loc[i,'SLCP']\n",
    "        EtMinusdt = 0\n",
    "        if i > 19:\n",
    "            EtMinusdt = CO2feTimeSeries.loc[int(i-20),'SLCP']\n",
    "        CO2feTimeSeries.loc[i,'CO2we'] = GWPH*((r*H)/dt*(Et - EtMinusdt) + s*Et)\n",
    "   \n",
    "    return CO2feTimeSeries"
   ]
  },
  {
   "cell_type": "code",
   "execution_count": null,
   "metadata": {},
   "outputs": [],
   "source": []
  },
  {
   "cell_type": "code",
   "execution_count": null,
   "metadata": {},
   "outputs": [],
   "source": []
  },
  {
   "cell_type": "code",
   "execution_count": null,
   "metadata": {},
   "outputs": [],
   "source": []
  },
  {
   "cell_type": "code",
   "execution_count": null,
   "metadata": {},
   "outputs": [],
   "source": []
  }
 ],
 "metadata": {
  "kernelspec": {
   "display_name": "Python 3",
   "language": "python",
   "name": "python3"
  },
  "language_info": {
   "codemirror_mode": {
    "name": "ipython",
    "version": 3
   },
   "file_extension": ".py",
   "mimetype": "text/x-python",
   "name": "python",
   "nbconvert_exporter": "python",
   "pygments_lexer": "ipython3",
   "version": "3.7.3"
  },
  "toc": {
   "base_numbering": 1,
   "nav_menu": {},
   "number_sections": true,
   "sideBar": true,
   "skip_h1_title": false,
   "title_cell": "Table of Contents",
   "title_sidebar": "Contents",
   "toc_cell": false,
   "toc_position": {
    "height": "calc(100% - 180px)",
    "left": "10px",
    "top": "150px",
    "width": "383.984px"
   },
   "toc_section_display": true,
   "toc_window_display": true
  }
 },
 "nbformat": 4,
 "nbformat_minor": 2
}
